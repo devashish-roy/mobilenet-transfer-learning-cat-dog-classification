{
 "cells": [
  {
   "cell_type": "code",
   "execution_count": 2,
   "id": "939c238e-cd8e-4035-98a0-5749f37c84cd",
   "metadata": {},
   "outputs": [],
   "source": [
    "# Import libraries\n",
    "import torch\n",
    "import torch.nn as nn\n",
    "import torch.optim as optim\n",
    "from torchvision import datasets, models, transforms\n",
    "from torch.utils.data import DataLoader\n",
    "import os\n",
    "from tqdm import tqdm  # Progress bar"
   ]
  },
  {
   "cell_type": "code",
   "execution_count": 3,
   "id": "41465d2a-9ef7-48cc-89e4-ddc6cc72c39f",
   "metadata": {},
   "outputs": [],
   "source": [
    "# Define device (GPU if available, otherwise CPU)\n",
    "device = torch.device(\"cuda\" if torch.cuda.is_available() else \"cpu\")"
   ]
  },
  {
   "cell_type": "code",
   "execution_count": 4,
   "id": "f74603ab-5fc3-4d3a-83f1-64faa0dcb0b9",
   "metadata": {},
   "outputs": [],
   "source": [
    "# Data transformations - mobilenet_v2\n",
    "data_transforms = {\n",
    "    'train': transforms.Compose([\n",
    "        transforms.Resize((224, 224)), # Resize images to match VGG16 input size\n",
    "        transforms.RandomHorizontalFlip(), # Augmentation for train data\n",
    "        transforms.ToTensor(),\n",
    "        transforms.Normalize([0.5, 0.5, 0.5], [0.5, 0.5, 0.5]) # mobilenet normalization\n",
    "    ]),\n",
    "    'test': transforms.Compose([\n",
    "        transforms.Resize((224, 224)),\n",
    "        transforms.ToTensor(),\n",
    "        transforms.Normalize([0.5, 0.5, 0.5], [0.5, 0.5, 0.5])\n",
    "    ]),\n",
    "}"
   ]
  },
  {
   "cell_type": "code",
   "execution_count": 5,
   "id": "8602a01c-2c5c-4148-990a-f63964798fe0",
   "metadata": {},
   "outputs": [],
   "source": [
    "# Paths to the train and test folders\n",
    "data_dir = r'C:\\Users\\T460\\OneDrive - BTH Student\\Documents\\Dev\\1. LTU\\4 BIP\\Assignment\\dataset_dogs_vs_cats'\n",
    "train_dir = os.path.join(data_dir, 'train')\n",
    "test_dir = os.path.join(data_dir, 'test')"
   ]
  },
  {
   "cell_type": "code",
   "execution_count": 6,
   "id": "1f328f26-989d-49ce-a74e-bf085ee8cdfe",
   "metadata": {},
   "outputs": [],
   "source": [
    "# Load data\n",
    "image_datasets = {\n",
    "    'train': datasets.ImageFolder(train_dir, transform=data_transforms['train']),\n",
    "    'test': datasets.ImageFolder(test_dir, transform=data_transforms['test'])\n",
    "}\n",
    "\n",
    "# Data loaders\n",
    "batch_size = 8\n",
    "dataloaders = {\n",
    "    'train': DataLoader(image_datasets['train'], batch_size=batch_size, shuffle=True),\n",
    "    'test': DataLoader(image_datasets['test'], batch_size=batch_size, shuffle=False)\n",
    "}"
   ]
  },
  {
   "cell_type": "markdown",
   "id": "7edbf2c9-ced6-4173-b739-2fa66e1fd67a",
   "metadata": {},
   "source": [
    "tried with VGG16 model but it takes very long time to train so tried with mobilenet instead"
   ]
  },
  {
   "cell_type": "code",
   "execution_count": 9,
   "id": "b2ede4ba-0c19-4711-ad39-67f3c8901891",
   "metadata": {},
   "outputs": [],
   "source": [
    "# Load pre-trained mobilenet model\n",
    "model = models.mobilenet_v2(pretrained=True)\n",
    "num_features = model.classifier[1].in_features\n",
    "model.classifier[1] = nn.Linear(num_features, 2)  # 2 classes: cats and dogs\n",
    "\n",
    "# Transfer learning\n",
    "# Freeze all layers except the last fully connected layer\n",
    "for param in model.parameters():\n",
    "    param.requires_grad = False\n",
    "\n",
    "# Unfreeze the last fully connected layer\n",
    "for param in model.classifier[1].parameters():\n",
    "    param.requires_grad = True\n",
    "\n",
    "# Move model to device\n",
    "model = model.to(device)\n",
    "\n",
    "# Define loss function and optimizer\n",
    "criterion = nn.CrossEntropyLoss()\n",
    "optimizer = optim.Adam(model.parameters(), lr=0.001)"
   ]
  },
  {
   "cell_type": "code",
   "execution_count": 10,
   "id": "be84511c-fc05-4cb9-9a8e-31878ea0da41",
   "metadata": {},
   "outputs": [
    {
     "name": "stdout",
     "output_type": "stream",
     "text": [
      "Epoch 1/2\n",
      "----------\n"
     ]
    },
    {
     "name": "stderr",
     "output_type": "stream",
     "text": [
      "Train Epoch 1/2: 100%|██████████| 1860/1860 [20:00<00:00,  1.55batch/s, loss=0.00486] \n"
     ]
    },
    {
     "name": "stdout",
     "output_type": "stream",
     "text": [
      "train Loss: 0.1933 Acc: 0.9228\n"
     ]
    },
    {
     "name": "stderr",
     "output_type": "stream",
     "text": [
      "Test Epoch 1/2: 100%|██████████| 628/628 [05:32<00:00,  1.89batch/s, loss=0.0199]  \n"
     ]
    },
    {
     "name": "stdout",
     "output_type": "stream",
     "text": [
      "test Loss: 0.0610 Acc: 0.9783\n",
      "Model saved with accuracy: 0.9783\n",
      "\n",
      "Epoch 2/2\n",
      "----------\n"
     ]
    },
    {
     "name": "stderr",
     "output_type": "stream",
     "text": [
      "Train Epoch 2/2: 100%|██████████| 1860/1860 [22:06<00:00,  1.40batch/s, loss=0.772]   \n"
     ]
    },
    {
     "name": "stdout",
     "output_type": "stream",
     "text": [
      "train Loss: 0.1894 Acc: 0.9279\n"
     ]
    },
    {
     "name": "stderr",
     "output_type": "stream",
     "text": [
      "Test Epoch 2/2: 100%|██████████| 628/628 [06:43<00:00,  1.56batch/s, loss=0.0131]  "
     ]
    },
    {
     "name": "stdout",
     "output_type": "stream",
     "text": [
      "test Loss: 0.0615 Acc: 0.9773\n",
      "\n",
      "Training complete\n",
      "Best test accuracy: 0.9783\n"
     ]
    },
    {
     "name": "stderr",
     "output_type": "stream",
     "text": [
      "\n"
     ]
    }
   ],
   "source": [
    "# Training loop\n",
    "num_epochs = 2\n",
    "best_acc = 0.0\n",
    "\n",
    "for epoch in range(num_epochs):\n",
    "    print(f'Epoch {epoch+1}/{num_epochs}')\n",
    "    print('-' * 10)\n",
    "\n",
    "    # Each epoch has a training and testing phase\n",
    "    for phase in ['train', 'test']:\n",
    "        if phase == 'train':\n",
    "            model.train()  # Set model to training mode\n",
    "        else:\n",
    "            model.eval()  # Set model to evaluate mode\n",
    "\n",
    "        running_loss = 0.0\n",
    "        running_corrects = 0\n",
    "\n",
    "        # Iterate over data with tqdm for progress bar\n",
    "        with tqdm(dataloaders[phase], unit=\"batch\") as tepoch:\n",
    "            for inputs, labels in tepoch:\n",
    "                tepoch.set_description(f\"{phase.capitalize()} Epoch {epoch+1}/{num_epochs}\")\n",
    "                \n",
    "                inputs = inputs.to(device)\n",
    "                labels = labels.to(device)\n",
    "\n",
    "                # Zero the parameter gradients\n",
    "                optimizer.zero_grad()\n",
    "\n",
    "                # Forward\n",
    "                with torch.set_grad_enabled(phase == 'train'):\n",
    "                    outputs = model(inputs)\n",
    "                    _, preds = torch.max(outputs, 1)\n",
    "                    loss = criterion(outputs, labels)\n",
    "\n",
    "                    # Backward + optimize only if in training phase\n",
    "                    if phase == 'train':\n",
    "                        loss.backward()\n",
    "                        optimizer.step()\n",
    "\n",
    "                # Statistics\n",
    "                running_loss += loss.item() * inputs.size(0)\n",
    "                running_corrects += torch.sum(preds == labels.data)\n",
    "\n",
    "                # Update progress bar with current loss\n",
    "                tepoch.set_postfix(loss=loss.item())\n",
    "\n",
    "            epoch_loss = running_loss / len(image_datasets[phase])\n",
    "            epoch_acc = running_corrects.double() / len(image_datasets[phase])\n",
    "\n",
    "            print(f'{phase} Loss: {epoch_loss:.4f} Acc: {epoch_acc:.4f}')\n",
    "\n",
    "            # Save the model if it has the best accuracy on the test set\n",
    "            if phase == 'test' and epoch_acc > best_acc:\n",
    "                best_acc = epoch_acc\n",
    "                #torch.save(model.state_dict(), 'best_model_vgg16_dogs_vs_cats.pth')\n",
    "                torch.save(model.state_dict(), 'best_model_mobilenet_dogs_vs_cats.pth')\n",
    "                print(f'Model saved with accuracy: {best_acc:.4f}')\n",
    "\n",
    "    print()\n",
    "\n",
    "print('Training complete')\n",
    "print(f'Best test accuracy: {best_acc:.4f}')"
   ]
  },
  {
   "cell_type": "code",
   "execution_count": 13,
   "id": "c2dc809e-96b7-4856-9ef7-a1bded973331",
   "metadata": {},
   "outputs": [
    {
     "name": "stdout",
     "output_type": "stream",
     "text": [
      "Prediction: Dog\n"
     ]
    }
   ],
   "source": [
    "from PIL import Image\n",
    "\n",
    "# Define the device (GPU if available, otherwise CPU)\n",
    "device = torch.device(\"cuda\" if torch.cuda.is_available() else \"cpu\")\n",
    "\n",
    "# Load the trained model (mobilenet_v2)\n",
    "model = models.mobilenet_v2(pretrained=True)\n",
    "num_features = model.classifier[1].in_features\n",
    "model.classifier[1] = nn.Linear(num_features, 2)  # 2 classes: cats and dogs\n",
    "\n",
    "# Load the saved model state_dict\n",
    "model.load_state_dict(torch.load(r'C:\\Users\\T460\\OneDrive - BTH Student\\Documents\\Dev\\1. LTU\\4 BIP\\Assignment\\best_model_mobilenet_dogs_vs_cats.pth'))\n",
    "\n",
    "# Move the model to the appropriate device\n",
    "model = model.to(device)\n",
    "model.eval()  # Set the model to evaluation mode\n",
    "\n",
    "# Define the same transformations that were applied during training\n",
    "data_transforms = transforms.Compose([\n",
    "    transforms.Resize((224, 224)),  # Resize image to match VGG16 input size\n",
    "    transforms.ToTensor(),\n",
    "    transforms.Normalize([0.5, 0.5, 0.5], [0.5, 0.5, 0.5])  # Mobilenet normalization\n",
    "])\n",
    "\n",
    "# Load a sample image (replace 'sample_image.jpg' with your image path)\n",
    "img_path = r'C:\\Users\\T460\\OneDrive - BTH Student\\Documents\\Dev\\1. LTU\\4 BIP\\Assignment\\dog 1.jfif'  # Change this to the path of the image you want to classify\n",
    "img = Image.open(img_path)\n",
    "\n",
    "# Apply the transformations to the image\n",
    "img_tensor = data_transforms(img).unsqueeze(0)  # Add a batch dimension (1, 3, 224, 224)\n",
    "img_tensor = img_tensor.to(device)\n",
    "\n",
    "# Make a prediction\n",
    "with torch.no_grad():  # No need to calculate gradients during inference\n",
    "    outputs = model(img_tensor)\n",
    "    _, preds = torch.max(outputs, 1)  # Get the predicted class (0 or 1)\n",
    "\n",
    "# Display the prediction\n",
    "if preds == 0:\n",
    "    print(\"Prediction: Cat\")\n",
    "else:\n",
    "    print(\"Prediction: Dog\")"
   ]
  },
  {
   "cell_type": "code",
   "execution_count": null,
   "id": "02d53362-ffa3-4ebc-9524-134123faaedb",
   "metadata": {},
   "outputs": [],
   "source": []
  },
  {
   "cell_type": "code",
   "execution_count": null,
   "id": "fbb3bbfd-f17b-4cf9-a823-f04baf2f55d8",
   "metadata": {},
   "outputs": [],
   "source": []
  },
  {
   "cell_type": "code",
   "execution_count": null,
   "id": "a44bcc6b-e6ef-42ea-9d46-93d652512860",
   "metadata": {},
   "outputs": [],
   "source": []
  },
  {
   "cell_type": "code",
   "execution_count": null,
   "id": "a7e9e804-f439-4d0b-b234-02e6f5e7cacf",
   "metadata": {},
   "outputs": [],
   "source": []
  },
  {
   "cell_type": "code",
   "execution_count": null,
   "id": "068cdb99-97af-4401-8a11-d39e6038e0ae",
   "metadata": {},
   "outputs": [],
   "source": []
  },
  {
   "cell_type": "code",
   "execution_count": null,
   "id": "a0ca2532-2ab9-42b8-b3d5-06a21c504ab4",
   "metadata": {},
   "outputs": [],
   "source": []
  },
  {
   "cell_type": "code",
   "execution_count": null,
   "id": "4e292f78-f7f7-470a-94b8-8ca034bbe725",
   "metadata": {},
   "outputs": [],
   "source": []
  }
 ],
 "metadata": {
  "kernelspec": {
   "display_name": "Python 3 (ipykernel)",
   "language": "python",
   "name": "python3"
  },
  "language_info": {
   "codemirror_mode": {
    "name": "ipython",
    "version": 3
   },
   "file_extension": ".py",
   "mimetype": "text/x-python",
   "name": "python",
   "nbconvert_exporter": "python",
   "pygments_lexer": "ipython3",
   "version": "3.8.18"
  }
 },
 "nbformat": 4,
 "nbformat_minor": 5
}
